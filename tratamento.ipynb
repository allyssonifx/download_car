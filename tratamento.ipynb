{
 "cells": [
  {
   "cell_type": "code",
   "execution_count": null,
   "metadata": {},
   "outputs": [],
   "source": [
    "with open(\"cidades/MG.txt\", \"r\") as txt:\n",
    "        lista = txt.readlines()"
   ]
  },
  {
   "cell_type": "code",
   "execution_count": null,
   "metadata": {},
   "outputs": [],
   "source": [
    "lista[1]"
   ]
  },
  {
   "cell_type": "code",
   "execution_count": 1,
   "metadata": {},
   "outputs": [],
   "source": [
    "\n",
    "import pandas as pd\n",
    "\n",
    "\n",
    "\n",
    "df = pd.read_csv('municipios.csv', encoding='UTF-8',sep=';')"
   ]
  },
  {
   "cell_type": "code",
   "execution_count": 2,
   "metadata": {},
   "outputs": [],
   "source": [
    "df = df.query('UF == \"PI\"')"
   ]
  },
  {
   "cell_type": "code",
   "execution_count": 3,
   "metadata": {},
   "outputs": [],
   "source": [
    "cities = df['Município']"
   ]
  },
  {
   "cell_type": "code",
   "execution_count": 4,
   "metadata": {},
   "outputs": [
    {
     "data": {
      "text/plain": [
       "224"
      ]
     },
     "execution_count": 4,
     "metadata": {},
     "output_type": "execute_result"
    }
   ],
   "source": [
    "len(cities)"
   ]
  },
  {
   "cell_type": "code",
   "execution_count": 5,
   "metadata": {},
   "outputs": [],
   "source": [
    "citiesg = []\n",
    "from unidecode import unidecode\n",
    "\n",
    "for c in cities:\n",
    "    citiesg.append(unidecode(c.lower()))"
   ]
  },
  {
   "cell_type": "code",
   "execution_count": null,
   "metadata": {},
   "outputs": [],
   "source": [
    "import os\n",
    "zs = os.listdir('DATA\\MG')"
   ]
  },
  {
   "cell_type": "code",
   "execution_count": 5,
   "metadata": {},
   "outputs": [
    {
     "ename": "NameError",
     "evalue": "name 'zs' is not defined",
     "output_type": "error",
     "traceback": [
      "\u001b[1;31m---------------------------------------------------------------------------\u001b[0m",
      "\u001b[1;31mNameError\u001b[0m                                 Traceback (most recent call last)",
      "Cell \u001b[1;32mIn[5], line 2\u001b[0m\n\u001b[0;32m      1\u001b[0m cities2 \u001b[39m=\u001b[39m []\n\u001b[1;32m----> 2\u001b[0m \u001b[39mfor\u001b[39;00m z \u001b[39min\u001b[39;00m zs:\n\u001b[0;32m      3\u001b[0m     cities2\u001b[39m.\u001b[39mappend(z\u001b[39m.\u001b[39mreplace(\u001b[39m\"\u001b[39m\u001b[39mmg_\u001b[39m\u001b[39m\"\u001b[39m,\u001b[39m\"\u001b[39m\u001b[39m\"\u001b[39m)\u001b[39m.\u001b[39mreplace(\u001b[39m\"\u001b[39m\u001b[39m_\u001b[39m\u001b[39m\"\u001b[39m,\u001b[39m\"\u001b[39m\u001b[39m \u001b[39m\u001b[39m\"\u001b[39m))\n",
      "\u001b[1;31mNameError\u001b[0m: name 'zs' is not defined"
     ]
    }
   ],
   "source": [
    "cities2 = []\n",
    "for z in zs:\n",
    "    cities2.append(z.replace(\"mg_\",\"\").replace(\"_\",\" \"))"
   ]
  },
  {
   "cell_type": "code",
   "execution_count": 6,
   "metadata": {},
   "outputs": [
    {
     "data": {
      "text/plain": [
       "497"
      ]
     },
     "execution_count": 6,
     "metadata": {},
     "output_type": "execute_result"
    }
   ],
   "source": [
    "len(citiesg)"
   ]
  },
  {
   "cell_type": "code",
   "execution_count": null,
   "metadata": {},
   "outputs": [],
   "source": [
    "for c in citiesg:\n",
    "    if c not in cities2:\n",
    "        print(c)"
   ]
  },
  {
   "cell_type": "code",
   "execution_count": null,
   "metadata": {},
   "outputs": [],
   "source": [
    "cities2[0]"
   ]
  },
  {
   "cell_type": "code",
   "execution_count": 4,
   "metadata": {},
   "outputs": [
    {
     "data": {
      "text/plain": [
       "ConcatUF+Mun      SPCaraguatatuba\n",
       "IBGE                       351050\n",
       "IBGE7                     3510500\n",
       "UF                             SP\n",
       "Município           Caraguatatuba\n",
       "Região             Região Sudeste\n",
       "População 2010           100840.0\n",
       "Porte                      Grande\n",
       "Capital                       NaN\n",
       "Unnamed: 9                    NaN\n",
       "Name: 3387, dtype: object"
      ]
     },
     "execution_count": 4,
     "metadata": {},
     "output_type": "execute_result"
    }
   ],
   "source": [
    "df.iloc[120]"
   ]
  },
  {
   "cell_type": "code",
   "execution_count": null,
   "metadata": {},
   "outputs": [],
   "source": [
    "df.columns"
   ]
  },
  {
   "cell_type": "code",
   "execution_count": 5,
   "metadata": {},
   "outputs": [],
   "source": [
    "cidades = []\n",
    "from unidecode import unidecode\n",
    "for c in range(105,len(df)):\n",
    "    string = \"\"\n",
    "    string =  unidecode(str(df['Município'].iloc[c]).lower())+\"###\"+str(df['IBGE7'].iloc[c])\n",
    "    cidades.append(string)\n",
    "\n"
   ]
  },
  {
   "cell_type": "code",
   "execution_count": 6,
   "metadata": {},
   "outputs": [
    {
     "data": {
      "text/plain": [
       "['joaquim pires###2205409',\n",
       " 'joca marques###2205458',\n",
       " 'jose de freitas###2205508',\n",
       " 'juazeiro do piaui###2205516',\n",
       " 'julio borges###2205524',\n",
       " 'jurema###2205532',\n",
       " 'lagoinha do piaui###2205540',\n",
       " 'lagoa alegre###2205557',\n",
       " 'lagoa do barro do piaui###2205565',\n",
       " 'lagoa de sao francisco###2205573',\n",
       " 'lagoa do piaui###2205581',\n",
       " 'lagoa do sitio###2205599',\n",
       " 'landri sales###2205607',\n",
       " 'luis correia###2205706',\n",
       " 'luzilandia###2205805',\n",
       " 'madeiro###2205854',\n",
       " 'manoel emidio###2205904',\n",
       " 'marcolandia###2205953',\n",
       " 'marcos parente###2206001',\n",
       " 'massape do piaui###2206050',\n",
       " 'matias olimpio###2206100',\n",
       " 'miguel alves###2206209',\n",
       " 'miguel leao###2206308',\n",
       " 'milton brandao###2206357',\n",
       " 'monsenhor gil###2206407',\n",
       " 'monsenhor hipolito###2206506',\n",
       " 'monte alegre do piaui###2206605',\n",
       " 'morro cabeca no tempo###2206654',\n",
       " 'morro do chapeu do piaui###2206670',\n",
       " 'murici dos portelas###2206696',\n",
       " 'nazare do piaui###2206704',\n",
       " 'nazaria###2206720',\n",
       " 'nossa senhora de nazare###2206753',\n",
       " 'nossa senhora dos remedios###2206803',\n",
       " 'novo oriente do piaui###2206902',\n",
       " 'novo santo antonio###2206951',\n",
       " 'oeiras###2207009',\n",
       " \"olho d'agua do piaui###2207108\",\n",
       " 'padre marcos###2207207',\n",
       " 'paes landim###2207306',\n",
       " 'pajeu do piaui###2207355',\n",
       " 'palmeira do piaui###2207405',\n",
       " 'palmeirais###2207504',\n",
       " 'paqueta###2207553',\n",
       " 'parnagua###2207603',\n",
       " 'parnaiba###2207702',\n",
       " 'passagem franca do piaui###2207751',\n",
       " 'patos do piaui###2207777',\n",
       " \"pau d'arco do piaui###2207793\",\n",
       " 'paulistana###2207801',\n",
       " 'pavussu###2207850',\n",
       " 'pedro ii###2207900',\n",
       " 'pedro laurentino###2207934',\n",
       " 'nova santa rita###2207959',\n",
       " 'picos###2208007',\n",
       " 'pimenteiras###2208106',\n",
       " 'pio ix###2208205',\n",
       " 'piracuruca###2208304',\n",
       " 'piripiri###2208403',\n",
       " 'porto###2208502',\n",
       " 'porto alegre do piaui###2208551',\n",
       " 'prata do piaui###2208601',\n",
       " 'queimada nova###2208650',\n",
       " 'redencao do gurgueia###2208700',\n",
       " 'regeneracao###2208809',\n",
       " 'riacho frio###2208858',\n",
       " 'ribeira do piaui###2208874',\n",
       " 'ribeiro goncalves###2208908',\n",
       " 'rio grande do piaui###2209005',\n",
       " 'santa cruz do piaui###2209104',\n",
       " 'santa cruz dos milagres###2209153',\n",
       " 'santa filomena###2209203',\n",
       " 'santa luz###2209302',\n",
       " 'santana do piaui###2209351',\n",
       " 'santa rosa do piaui###2209377',\n",
       " 'santo antonio de lisboa###2209401',\n",
       " 'santo antonio dos milagres###2209450',\n",
       " 'santo inacio do piaui###2209500',\n",
       " 'sao braz do piaui###2209559',\n",
       " 'sao felix do piaui###2209609',\n",
       " 'sao francisco de assis do piaui###2209658',\n",
       " 'sao francisco do piaui###2209708',\n",
       " 'sao goncalo do gurgueia###2209757',\n",
       " 'sao goncalo do piaui###2209807',\n",
       " 'sao joao da canabrava###2209856',\n",
       " 'sao joao da fronteira###2209872',\n",
       " 'sao joao da serra###2209906',\n",
       " 'sao joao da varjota###2209955',\n",
       " 'sao joao do arraial###2209971',\n",
       " 'sao joao do piaui###2210003',\n",
       " 'sao jose do divino###2210052',\n",
       " 'sao jose do peixe###2210102',\n",
       " 'sao jose do piaui###2210201',\n",
       " 'sao juliao###2210300',\n",
       " 'sao lourenco do piaui###2210359',\n",
       " 'sao luis do piaui###2210375',\n",
       " 'sao miguel da baixa grande###2210383',\n",
       " 'sao miguel do fidalgo###2210391',\n",
       " 'sao miguel do tapuio###2210409',\n",
       " 'sao pedro do piaui###2210508',\n",
       " 'sao raimundo nonato###2210607',\n",
       " 'sebastiao barros###2210623',\n",
       " 'sebastiao leal###2210631',\n",
       " 'sigefredo pacheco###2210656',\n",
       " 'simoes###2210706',\n",
       " 'simplicio mendes###2210805',\n",
       " 'socorro do piaui###2210904',\n",
       " 'sussuapara###2210938',\n",
       " 'tamboril do piaui###2210953',\n",
       " 'tanque do piaui###2210979',\n",
       " 'teresina###2211001',\n",
       " 'uniao###2211100',\n",
       " 'urucui###2211209',\n",
       " 'valenca do piaui###2211308',\n",
       " 'varzea branca###2211357',\n",
       " 'varzea grande###2211407',\n",
       " 'vera mendes###2211506',\n",
       " 'vila nova do piaui###2211605',\n",
       " 'wall ferraz###2211704']"
      ]
     },
     "execution_count": 6,
     "metadata": {},
     "output_type": "execute_result"
    }
   ],
   "source": [
    "cidades"
   ]
  },
  {
   "cell_type": "code",
   "execution_count": 7,
   "metadata": {},
   "outputs": [
    {
     "name": "stdout",
     "output_type": "stream",
     "text": [
      "Arquivo criado com sucesso.\n"
     ]
    }
   ],
   "source": [
    "\n",
    "with open('PI.txt', 'w') as arquivo:\n",
    "    for item in cidades:\n",
    "        arquivo.write(item + '\\n')\n",
    "\n",
    "print(\"Arquivo criado com sucesso.\")\n"
   ]
  },
  {
   "cell_type": "code",
   "execution_count": null,
   "metadata": {},
   "outputs": [],
   "source": [
    "import os\n",
    "caminho = 'DATA\\MG'\n",
    "pastas = os.listdir(caminho)\n",
    "caminho = caminho+'/'"
   ]
  },
  {
   "cell_type": "code",
   "execution_count": null,
   "metadata": {},
   "outputs": [],
   "source": [
    "from zipfile import ZipFile\n",
    "\n",
    "#RODAR ISSO DUAS VEZES\n",
    "for p in pastas:\n",
    "    arquivos = os.listdir(caminho+p)\n",
    "    for a in arquivos:\n",
    "        print(p+\">>\"+a)\n",
    "        z = ZipFile(caminho+p+'/'+a, 'r')\n",
    "        z.extractall(caminho+p)\n",
    "        z.close()\n",
    "        os.remove(caminho+p+'/'+a)"
   ]
  },
  {
   "cell_type": "code",
   "execution_count": null,
   "metadata": {},
   "outputs": [],
   "source": [
    "shapes = []\n",
    "\n",
    "for p in pastas:\n",
    "    arquivos = os.listdir(caminho+p)\n",
    "    for a in arquivos:\n",
    "        if '.shp' in a and a not in shapes:\n",
    "            shapes.append(a)"
   ]
  },
  {
   "cell_type": "code",
   "execution_count": null,
   "metadata": {},
   "outputs": [],
   "source": [
    "import geopandas as gpd\n",
    "import pandas as pd\n",
    "df = pd.DataFrame()"
   ]
  },
  {
   "cell_type": "code",
   "execution_count": null,
   "metadata": {},
   "outputs": [],
   "source": [
    "dfs = []\n",
    "for s in shapes:\n",
    "    print(s)\n",
    "    for p in pastas:\n",
    "        print(p,end='|')\n",
    "        arquivos = os.listdir(caminho+p)\n",
    "        if s in arquivos:\n",
    "            gdf = gpd.read_file(caminho+p+'/'+s)\n",
    "            gdf.crs='epsg:4674'\n",
    "            df = pd.concat([df,gdf])\n",
    "        break\n",
    "    print('\\n')\n",
    "    gd = gpd.GeoDataFrame(df,geometry='geometry',crs='epsg:4674')\n",
    "    gd.to_file(caminho+s.replace(\".shp\",\".gpkg\"),layer='m',driver='GPKG')\n",
    "    df = pd.DataFrame()\n",
    "    break"
   ]
  },
  {
   "cell_type": "code",
   "execution_count": null,
   "metadata": {},
   "outputs": [],
   "source": [
    "len(dfs)"
   ]
  },
  {
   "cell_type": "code",
   "execution_count": null,
   "metadata": {},
   "outputs": [],
   "source": [
    "for c in range(0,len(dfs)):\n",
    "    gd = gpd.GeoDataFrame(dfs[c],geometry='geometry',crs='epsg:4674')\n",
    "    gd.to_file('AC/AC_'+shapes[c].replace(\".shp\",\"\")+\".shp\")\n",
    "    "
   ]
  },
  {
   "cell_type": "code",
   "execution_count": null,
   "metadata": {},
   "outputs": [],
   "source": [
    "import fiona\n",
    "import geopandas as gpd\n",
    "fiona.drvsupport.supported_drivers['KML'] = 'rw'\n",
    "df = gpd.read_file(\"AREA_EMBARGADA_SIGA_POLIGONO (2).kml\", driver='KML',encoding=\"utf-8\")"
   ]
  },
  {
   "cell_type": "code",
   "execution_count": null,
   "metadata": {},
   "outputs": [],
   "source": [
    "fiona.drvsupport.supported_drivers['KML'] = 'rw'\n",
    "df2 = gpd.read_file('AREA_EMBARGADA_SIGA_POLIGONO (3).kml', driver='KML',encoding=\"utf-8\")"
   ]
  },
  {
   "cell_type": "code",
   "execution_count": null,
   "metadata": {},
   "outputs": [],
   "source": [
    "len(df)"
   ]
  },
  {
   "cell_type": "code",
   "execution_count": null,
   "metadata": {},
   "outputs": [],
   "source": [
    "len(df2)"
   ]
  },
  {
   "cell_type": "code",
   "execution_count": null,
   "metadata": {},
   "outputs": [],
   "source": [
    "import os\n",
    "shs = os.listdir('DATA/MG')\n",
    "shs2 = []\n",
    "for s in shs:\n",
    "    if '.gpkg' in s:\n",
    "        shs2.append(s)"
   ]
  },
  {
   "cell_type": "code",
   "execution_count": 1,
   "metadata": {},
   "outputs": [],
   "source": [
    "import pandas as pd\n",
    "import geopandas as gpd"
   ]
  },
  {
   "cell_type": "code",
   "execution_count": null,
   "metadata": {},
   "outputs": [],
   "source": [
    "for c in range(0,len(shs2),2):\n",
    "    print(shs2[c])\n",
    "    print(shs2[c+1])\n",
    "    gdf = gpd.read_file('DATA/MG/'+shs2[c],layer='m')\n",
    "    gdf2 = gpd.read_file('DATA/MG/'+shs2[c+1],layer='m')\n",
    "    gdf3 = pd.concat([gdf,gdf2])\n",
    "    gdf3.to_file('DATA/MG/'+shs2[c].replace(\"_1\",\"_F\"),layer='m',driver='GPKG')"
   ]
  },
  {
   "cell_type": "code",
   "execution_count": 2,
   "metadata": {},
   "outputs": [],
   "source": [
    "\n",
    "\n",
    "\n",
    "gdf = gpd.read_file('DATA/MG/AREA_IMOVEL_1.gpkg',layer='m')\n",
    "#gdf2 = gpd.read_file('DATA/MG/VEGETACAO_NATIVA_2.gpkg',layer='m')"
   ]
  },
  {
   "cell_type": "code",
   "execution_count": 5,
   "metadata": {},
   "outputs": [
    {
     "data": {
      "text/plain": [
       "Index(['COD_IMOVEL', 'NUM_AREA', 'COD_ESTADO', 'NOM_MUNICI', 'NUM_MODULO',\n",
       "       'TIPO_IMOVE', 'SITUACAO', 'CONDICAO_I', 'geometry'],\n",
       "      dtype='object')"
      ]
     },
     "execution_count": 5,
     "metadata": {},
     "output_type": "execute_result"
    }
   ],
   "source": [
    "gdf.columns"
   ]
  },
  {
   "cell_type": "code",
   "execution_count": 9,
   "metadata": {},
   "outputs": [
    {
     "data": {
      "text/html": [
       "<div>\n",
       "<style scoped>\n",
       "    .dataframe tbody tr th:only-of-type {\n",
       "        vertical-align: middle;\n",
       "    }\n",
       "\n",
       "    .dataframe tbody tr th {\n",
       "        vertical-align: top;\n",
       "    }\n",
       "\n",
       "    .dataframe thead th {\n",
       "        text-align: right;\n",
       "    }\n",
       "</style>\n",
       "<table border=\"1\" class=\"dataframe\">\n",
       "  <thead>\n",
       "    <tr style=\"text-align: right;\">\n",
       "      <th></th>\n",
       "      <th>COD_IMOVEL</th>\n",
       "      <th>NUM_AREA</th>\n",
       "      <th>COD_ESTADO</th>\n",
       "      <th>NOM_MUNICI</th>\n",
       "      <th>NUM_MODULO</th>\n",
       "      <th>TIPO_IMOVE</th>\n",
       "      <th>SITUACAO</th>\n",
       "      <th>CONDICAO_I</th>\n",
       "      <th>geometry</th>\n",
       "    </tr>\n",
       "  </thead>\n",
       "  <tbody>\n",
       "    <tr>\n",
       "      <th>1749</th>\n",
       "      <td>MG-3100203-4FB68E9ED15D42339B14559298C8E0D8</td>\n",
       "      <td>0.007174</td>\n",
       "      <td>MG</td>\n",
       "      <td>AbaetÃ©</td>\n",
       "      <td>0.0002</td>\n",
       "      <td>IRU</td>\n",
       "      <td>CA</td>\n",
       "      <td>CANCELADO_POR_DECISAO_ADMINISTRATIVA</td>\n",
       "      <td>POLYGON ((-45.28276 -19.21308, -45.28284 -19.2...</td>\n",
       "    </tr>\n",
       "    <tr>\n",
       "      <th>2301</th>\n",
       "      <td>MG-3100203-8395525507E44EA2BB406671C5012ED7</td>\n",
       "      <td>3.109746</td>\n",
       "      <td>MG</td>\n",
       "      <td>AbaetÃ©</td>\n",
       "      <td>0.0777</td>\n",
       "      <td>IRU</td>\n",
       "      <td>CA</td>\n",
       "      <td>CANCELADO_POR_DECISAO_ADMINISTRATIVA</td>\n",
       "      <td>POLYGON ((-45.24608 -19.13965, -45.24453 -19.1...</td>\n",
       "    </tr>\n",
       "    <tr>\n",
       "      <th>2381</th>\n",
       "      <td>MG-3100203-D6BC75AE244F48C3BE71C962473FC713</td>\n",
       "      <td>0.194448</td>\n",
       "      <td>MG</td>\n",
       "      <td>AbaetÃ©</td>\n",
       "      <td>0.0049</td>\n",
       "      <td>IRU</td>\n",
       "      <td>CA</td>\n",
       "      <td>CANCELADO_POR_DECISAO_ADMINISTRATIVA</td>\n",
       "      <td>POLYGON ((-45.26404 -19.10340, -45.26335 -19.1...</td>\n",
       "    </tr>\n",
       "    <tr>\n",
       "      <th>2701</th>\n",
       "      <td>MG-3100203-D3D50D300D6A4B40BD245CF6E2347191</td>\n",
       "      <td>165.241978</td>\n",
       "      <td>MG</td>\n",
       "      <td>AbaetÃ©</td>\n",
       "      <td>4.1310</td>\n",
       "      <td>IRU</td>\n",
       "      <td>CA</td>\n",
       "      <td>CANCELADO_POR_DECISAO_ADMINISTRATIVA</td>\n",
       "      <td>POLYGON ((-45.57022 -19.05335, -45.56515 -19.0...</td>\n",
       "    </tr>\n",
       "    <tr>\n",
       "      <th>4908</th>\n",
       "      <td>MG-3100401-58B4D5AB3CF643ECACD6154242D13134</td>\n",
       "      <td>11.087585</td>\n",
       "      <td>MG</td>\n",
       "      <td>Acaiaca</td>\n",
       "      <td>0.4300</td>\n",
       "      <td>IRU</td>\n",
       "      <td>CA</td>\n",
       "      <td>CANCELADO_POR_DECISAO_ADMINISTRATIVA</td>\n",
       "      <td>POLYGON ((-43.12676 -20.43782, -43.12659 -20.4...</td>\n",
       "    </tr>\n",
       "    <tr>\n",
       "      <th>...</th>\n",
       "      <td>...</td>\n",
       "      <td>...</td>\n",
       "      <td>...</td>\n",
       "      <td>...</td>\n",
       "      <td>...</td>\n",
       "      <td>...</td>\n",
       "      <td>...</td>\n",
       "      <td>...</td>\n",
       "      <td>...</td>\n",
       "    </tr>\n",
       "    <tr>\n",
       "      <th>502122</th>\n",
       "      <td>MG-3136959-B0BF353637E9478D81EEE0CC0D3A22DF</td>\n",
       "      <td>24.288449</td>\n",
       "      <td>MG</td>\n",
       "      <td>JuvenÃ­lia</td>\n",
       "      <td>0.3737</td>\n",
       "      <td>IRU</td>\n",
       "      <td>CA</td>\n",
       "      <td>CANCELADO_POR_DECISAO_ADMINISTRATIVA</td>\n",
       "      <td>POLYGON ((-44.17355 -14.28771, -44.17683 -14.2...</td>\n",
       "    </tr>\n",
       "    <tr>\n",
       "      <th>507016</th>\n",
       "      <td>MG-3137403-0DF866897DDD40B3B2EB9BB375641643</td>\n",
       "      <td>13.404793</td>\n",
       "      <td>MG</td>\n",
       "      <td>Lagoa Dourada</td>\n",
       "      <td>0.4500</td>\n",
       "      <td>IRU</td>\n",
       "      <td>CA</td>\n",
       "      <td>CANCELADO_POR_DECISAO_ADMINISTRATIVA</td>\n",
       "      <td>POLYGON ((-43.98379 -20.92763, -43.98526 -20.9...</td>\n",
       "    </tr>\n",
       "    <tr>\n",
       "      <th>507021</th>\n",
       "      <td>MG-3137403-FE5A179D359E457B9A171A445F7F773A</td>\n",
       "      <td>2.002220</td>\n",
       "      <td>MG</td>\n",
       "      <td>Lagoa Dourada</td>\n",
       "      <td>0.0700</td>\n",
       "      <td>IRU</td>\n",
       "      <td>CA</td>\n",
       "      <td>CANCELADO_POR_DECISAO_ADMINISTRATIVA</td>\n",
       "      <td>POLYGON ((-43.98373 -20.92766, -43.98377 -20.9...</td>\n",
       "    </tr>\n",
       "    <tr>\n",
       "      <th>508202</th>\n",
       "      <td>MG-3137403-F3A8DBB6BD4741078995AC684AC5359D</td>\n",
       "      <td>3.112013</td>\n",
       "      <td>MG</td>\n",
       "      <td>Lagoa Dourada</td>\n",
       "      <td>0.1037</td>\n",
       "      <td>IRU</td>\n",
       "      <td>CA</td>\n",
       "      <td>CANCELADO_POR_DECISAO_ADMINISTRATIVA</td>\n",
       "      <td>POLYGON ((-44.14781 -20.88909, -44.14553 -20.8...</td>\n",
       "    </tr>\n",
       "    <tr>\n",
       "      <th>508351</th>\n",
       "      <td>MG-3137403-82C6A06FB89B46D6988F5B0F02B63DCE</td>\n",
       "      <td>23.717229</td>\n",
       "      <td>MG</td>\n",
       "      <td>Lagoa Dourada</td>\n",
       "      <td>0.7906</td>\n",
       "      <td>IRU</td>\n",
       "      <td>CA</td>\n",
       "      <td>Cancelado por duplicidade</td>\n",
       "      <td>POLYGON ((-44.18581 -20.80551, -44.18469 -20.8...</td>\n",
       "    </tr>\n",
       "  </tbody>\n",
       "</table>\n",
       "<p>1151 rows × 9 columns</p>\n",
       "</div>"
      ],
      "text/plain": [
       "                                         COD_IMOVEL    NUM_AREA COD_ESTADO  \\\n",
       "1749    MG-3100203-4FB68E9ED15D42339B14559298C8E0D8    0.007174         MG   \n",
       "2301    MG-3100203-8395525507E44EA2BB406671C5012ED7    3.109746         MG   \n",
       "2381    MG-3100203-D6BC75AE244F48C3BE71C962473FC713    0.194448         MG   \n",
       "2701    MG-3100203-D3D50D300D6A4B40BD245CF6E2347191  165.241978         MG   \n",
       "4908    MG-3100401-58B4D5AB3CF643ECACD6154242D13134   11.087585         MG   \n",
       "...                                             ...         ...        ...   \n",
       "502122  MG-3136959-B0BF353637E9478D81EEE0CC0D3A22DF   24.288449         MG   \n",
       "507016  MG-3137403-0DF866897DDD40B3B2EB9BB375641643   13.404793         MG   \n",
       "507021  MG-3137403-FE5A179D359E457B9A171A445F7F773A    2.002220         MG   \n",
       "508202  MG-3137403-F3A8DBB6BD4741078995AC684AC5359D    3.112013         MG   \n",
       "508351  MG-3137403-82C6A06FB89B46D6988F5B0F02B63DCE   23.717229         MG   \n",
       "\n",
       "           NOM_MUNICI  NUM_MODULO TIPO_IMOVE SITUACAO  \\\n",
       "1749          AbaetÃ©      0.0002        IRU       CA   \n",
       "2301          AbaetÃ©      0.0777        IRU       CA   \n",
       "2381          AbaetÃ©      0.0049        IRU       CA   \n",
       "2701          AbaetÃ©      4.1310        IRU       CA   \n",
       "4908          Acaiaca      0.4300        IRU       CA   \n",
       "...               ...         ...        ...      ...   \n",
       "502122     JuvenÃ­lia      0.3737        IRU       CA   \n",
       "507016  Lagoa Dourada      0.4500        IRU       CA   \n",
       "507021  Lagoa Dourada      0.0700        IRU       CA   \n",
       "508202  Lagoa Dourada      0.1037        IRU       CA   \n",
       "508351  Lagoa Dourada      0.7906        IRU       CA   \n",
       "\n",
       "                                  CONDICAO_I  \\\n",
       "1749    CANCELADO_POR_DECISAO_ADMINISTRATIVA   \n",
       "2301    CANCELADO_POR_DECISAO_ADMINISTRATIVA   \n",
       "2381    CANCELADO_POR_DECISAO_ADMINISTRATIVA   \n",
       "2701    CANCELADO_POR_DECISAO_ADMINISTRATIVA   \n",
       "4908    CANCELADO_POR_DECISAO_ADMINISTRATIVA   \n",
       "...                                      ...   \n",
       "502122  CANCELADO_POR_DECISAO_ADMINISTRATIVA   \n",
       "507016  CANCELADO_POR_DECISAO_ADMINISTRATIVA   \n",
       "507021  CANCELADO_POR_DECISAO_ADMINISTRATIVA   \n",
       "508202  CANCELADO_POR_DECISAO_ADMINISTRATIVA   \n",
       "508351             Cancelado por duplicidade   \n",
       "\n",
       "                                                 geometry  \n",
       "1749    POLYGON ((-45.28276 -19.21308, -45.28284 -19.2...  \n",
       "2301    POLYGON ((-45.24608 -19.13965, -45.24453 -19.1...  \n",
       "2381    POLYGON ((-45.26404 -19.10340, -45.26335 -19.1...  \n",
       "2701    POLYGON ((-45.57022 -19.05335, -45.56515 -19.0...  \n",
       "4908    POLYGON ((-43.12676 -20.43782, -43.12659 -20.4...  \n",
       "...                                                   ...  \n",
       "502122  POLYGON ((-44.17355 -14.28771, -44.17683 -14.2...  \n",
       "507016  POLYGON ((-43.98379 -20.92763, -43.98526 -20.9...  \n",
       "507021  POLYGON ((-43.98373 -20.92766, -43.98377 -20.9...  \n",
       "508202  POLYGON ((-44.14781 -20.88909, -44.14553 -20.8...  \n",
       "508351  POLYGON ((-44.18581 -20.80551, -44.18469 -20.8...  \n",
       "\n",
       "[1151 rows x 9 columns]"
      ]
     },
     "execution_count": 9,
     "metadata": {},
     "output_type": "execute_result"
    }
   ],
   "source": [
    "gdf.query('SITUACAO ==\"CA\"')"
   ]
  },
  {
   "cell_type": "code",
   "execution_count": 7,
   "metadata": {},
   "outputs": [
    {
     "name": "stdout",
     "output_type": "stream",
     "text": [
      "{'AT', 'PE', 'CA'}\n"
     ]
    }
   ],
   "source": [
    "print(set(x))"
   ]
  },
  {
   "cell_type": "code",
   "execution_count": null,
   "metadata": {},
   "outputs": [],
   "source": [
    "import pandas as pd\n",
    "gdf3 = pd.concat([gdf,gdf2])"
   ]
  },
  {
   "cell_type": "code",
   "execution_count": null,
   "metadata": {},
   "outputs": [],
   "source": []
  }
 ],
 "metadata": {
  "kernelspec": {
   "display_name": "Python 3",
   "language": "python",
   "name": "python3"
  },
  "language_info": {
   "codemirror_mode": {
    "name": "ipython",
    "version": 3
   },
   "file_extension": ".py",
   "mimetype": "text/x-python",
   "name": "python",
   "nbconvert_exporter": "python",
   "pygments_lexer": "ipython3",
   "version": "3.10.8"
  },
  "orig_nbformat": 4
 },
 "nbformat": 4,
 "nbformat_minor": 2
}
